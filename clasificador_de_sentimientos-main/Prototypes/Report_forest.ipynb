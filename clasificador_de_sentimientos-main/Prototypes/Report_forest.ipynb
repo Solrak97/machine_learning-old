{
 "cells": [
  {
   "cell_type": "code",
   "execution_count": 1,
   "metadata": {},
   "outputs": [],
   "source": [
    "from sklearn.ensemble import RandomForestClassifier\n",
    "import torch\n",
    "from pre_processing import load_data, train_test_split\n",
    "\n",
    "import wandb\n",
    "from torchmetrics import F1Score, Recall, Precision, Accuracy"
   ]
  },
  {
   "cell_type": "markdown",
   "metadata": {},
   "source": [
    "### Configuración"
   ]
  },
  {
   "cell_type": "code",
   "execution_count": 2,
   "metadata": {},
   "outputs": [
    {
     "name": "stderr",
     "output_type": "stream",
     "text": [
      "Failed to detect the name of this notebook, you can set it manually with the WANDB_NOTEBOOK_NAME environment variable to enable code saving.\n"
     ]
    },
    {
     "name": "stdout",
     "output_type": "stream",
     "text": [
      "Create sweep with ID: 1o39qn98\n",
      "Sweep URL: https://wandb.ai/panas/uncategorized/sweeps/1o39qn98\n"
     ]
    }
   ],
   "source": [
    "sweep_config = {\n",
    "    \"name\": \"Sweep Tree\",\n",
    "    \"method\": \"random\",\n",
    "    \"parameters\": {\n",
    "        \"n_estimators\": {\n",
    "            \"values\": [100, 200, 300, 400, 500, 600, 700, 800, 900, 1000]\n",
    "        },\n",
    "\n",
    "        \"model\": {\n",
    "            \"values\": [\"Tree\"]\n",
    "        }\n",
    "    }\n",
    "}\n",
    "\n",
    "sweep_id = wandb.sweep(sweep_config)\n",
    "\n"
   ]
  },
  {
   "cell_type": "markdown",
   "metadata": {},
   "source": [
    "### Data"
   ]
  },
  {
   "cell_type": "code",
   "execution_count": 3,
   "metadata": {},
   "outputs": [],
   "source": [
    "data_path = '../data.pkl'\n",
    "X, y, labels = load_data(data_path)\n",
    "\n",
    "X_train, X_test, y_train, y_test = train_test_split(X, y, test_size = 0.2, random_state = 0)\n",
    "\n",
    "y_test = torch.tensor(y_test)"
   ]
  },
  {
   "cell_type": "markdown",
   "metadata": {},
   "source": [
    "### Training"
   ]
  },
  {
   "cell_type": "code",
   "execution_count": 4,
   "metadata": {},
   "outputs": [],
   "source": [
    "def train():\n",
    "\n",
    "    global X_train\n",
    "    global y_train\n",
    "\n",
    "    global X_test\n",
    "    global y_test\n",
    "\n",
    "    f1 = F1Score(num_classes=8)\n",
    "    recall = Recall(average='macro', num_classes=8)\n",
    "    precision = Precision(average='macro', num_classes=8)\n",
    "    accuracy = Accuracy()\n",
    "\n",
    "    with wandb.init() as run:\n",
    "        config = wandb.config\n",
    "    \n",
    "        classifier = RandomForestClassifier(n_estimators = config[\"n_estimators\"], random_state = 0)   \n",
    "        pred = classifier.fit(X_train, y_train).predict(X_test)         \n",
    "            \n",
    "        # Login de resultados a Weights and biases\n",
    "\n",
    "        pred = torch.tensor(pred)\n",
    "        wandb.log({'Validation Accuracy': accuracy(pred, y_test), 'F1 Score': f1(\n",
    "            pred, y_test), 'Recall': recall(pred, y_test), 'Precision': precision(pred, y_test), 'Estimator': config[\"n_estimators\"]})\n",
    "            \n",
    "\n"
   ]
  },
  {
   "cell_type": "markdown",
   "metadata": {},
   "source": [
    "### Ejecucion del worker"
   ]
  },
  {
   "cell_type": "code",
   "execution_count": 5,
   "metadata": {},
   "outputs": [
    {
     "name": "stderr",
     "output_type": "stream",
     "text": [
      "\u001b[34m\u001b[1mwandb\u001b[0m: Agent Starting Run: meb3lzyr with config:\n",
      "\u001b[34m\u001b[1mwandb\u001b[0m: \tmodel: Tree\n",
      "\u001b[34m\u001b[1mwandb\u001b[0m: \tn_estimators: 600\n",
      "Failed to detect the name of this notebook, you can set it manually with the WANDB_NOTEBOOK_NAME environment variable to enable code saving.\n",
      "\u001b[34m\u001b[1mwandb\u001b[0m: Currently logged in as: \u001b[33msolrak\u001b[0m (\u001b[33mpanas\u001b[0m). Use \u001b[1m`wandb login --relogin`\u001b[0m to force relogin\n"
     ]
    },
    {
     "data": {
      "text/html": [
       "Tracking run with wandb version 0.12.21"
      ],
      "text/plain": [
       "<IPython.core.display.HTML object>"
      ]
     },
     "metadata": {},
     "output_type": "display_data"
    },
    {
     "data": {
      "text/html": [
       "Run data is saved locally in <code>/home/b65580/Documents/clasificador_de_sentimientos/Prototypes/wandb/run-20220706_184647-meb3lzyr</code>"
      ],
      "text/plain": [
       "<IPython.core.display.HTML object>"
      ]
     },
     "metadata": {},
     "output_type": "display_data"
    },
    {
     "data": {
      "text/html": [
       "Syncing run <strong><a href=\"https://wandb.ai/panas/uncategorized/runs/meb3lzyr\" target=\"_blank\">glamorous-sweep-1</a></strong> to <a href=\"https://wandb.ai/panas/uncategorized\" target=\"_blank\">Weights & Biases</a> (<a href=\"https://wandb.me/run\" target=\"_blank\">docs</a>)<br/>Sweep page:  <a href=\"https://wandb.ai/panas/uncategorized/sweeps/1o39qn98\" target=\"_blank\">https://wandb.ai/panas/uncategorized/sweeps/1o39qn98</a>"
      ],
      "text/plain": [
       "<IPython.core.display.HTML object>"
      ]
     },
     "metadata": {},
     "output_type": "display_data"
    },
    {
     "data": {
      "text/html": [
       "Waiting for W&B process to finish... <strong style=\"color:green\">(success).</strong>"
      ],
      "text/plain": [
       "<IPython.core.display.HTML object>"
      ]
     },
     "metadata": {},
     "output_type": "display_data"
    },
    {
     "data": {
      "text/html": [
       "<style>\n",
       "    table.wandb td:nth-child(1) { padding: 0 10px; text-align: left ; width: auto;} td:nth-child(2) {text-align: left ; width: 100%}\n",
       "    .wandb-row { display: flex; flex-direction: row; flex-wrap: wrap; justify-content: flex-start; width: 100% }\n",
       "    .wandb-col { display: flex; flex-direction: column; flex-basis: 100%; flex: 1; padding: 10px; }\n",
       "    </style>\n",
       "<div class=\"wandb-row\"><div class=\"wandb-col\"><h3>Run history:</h3><br/><table class=\"wandb\"><tr><td>F1 Score</td><td>▁</td></tr><tr><td>Precision</td><td>▁</td></tr><tr><td>Recall</td><td>▁</td></tr><tr><td>Validation Accuracy</td><td>▁</td></tr></table><br/></div><div class=\"wandb-col\"><h3>Run summary:</h3><br/><table class=\"wandb\"><tr><td>F1 Score</td><td>0.56597</td></tr><tr><td>Precision</td><td>0.57127</td></tr><tr><td>Recall</td><td>0.57605</td></tr><tr><td>Validation Accuracy</td><td>0.56597</td></tr></table><br/></div></div>"
      ],
      "text/plain": [
       "<IPython.core.display.HTML object>"
      ]
     },
     "metadata": {},
     "output_type": "display_data"
    },
    {
     "data": {
      "text/html": [
       "Synced <strong style=\"color:#cdcd00\">glamorous-sweep-1</strong>: <a href=\"https://wandb.ai/panas/uncategorized/runs/meb3lzyr\" target=\"_blank\">https://wandb.ai/panas/uncategorized/runs/meb3lzyr</a><br/>Synced 4 W&B file(s), 0 media file(s), 0 artifact file(s) and 0 other file(s)"
      ],
      "text/plain": [
       "<IPython.core.display.HTML object>"
      ]
     },
     "metadata": {},
     "output_type": "display_data"
    },
    {
     "data": {
      "text/html": [
       "Find logs at: <code>./wandb/run-20220706_184647-meb3lzyr/logs</code>"
      ],
      "text/plain": [
       "<IPython.core.display.HTML object>"
      ]
     },
     "metadata": {},
     "output_type": "display_data"
    },
    {
     "name": "stderr",
     "output_type": "stream",
     "text": [
      "\u001b[34m\u001b[1mwandb\u001b[0m: Agent Starting Run: 4i6x523r with config:\n",
      "\u001b[34m\u001b[1mwandb\u001b[0m: \tmodel: Tree\n",
      "\u001b[34m\u001b[1mwandb\u001b[0m: \tn_estimators: 900\n",
      "Failed to detect the name of this notebook, you can set it manually with the WANDB_NOTEBOOK_NAME environment variable to enable code saving.\n"
     ]
    },
    {
     "data": {
      "text/html": [
       "Tracking run with wandb version 0.12.21"
      ],
      "text/plain": [
       "<IPython.core.display.HTML object>"
      ]
     },
     "metadata": {},
     "output_type": "display_data"
    },
    {
     "data": {
      "text/html": [
       "Run data is saved locally in <code>/home/b65580/Documents/clasificador_de_sentimientos/Prototypes/wandb/run-20220706_184710-4i6x523r</code>"
      ],
      "text/plain": [
       "<IPython.core.display.HTML object>"
      ]
     },
     "metadata": {},
     "output_type": "display_data"
    },
    {
     "data": {
      "text/html": [
       "Syncing run <strong><a href=\"https://wandb.ai/panas/uncategorized/runs/4i6x523r\" target=\"_blank\">honest-sweep-2</a></strong> to <a href=\"https://wandb.ai/panas/uncategorized\" target=\"_blank\">Weights & Biases</a> (<a href=\"https://wandb.me/run\" target=\"_blank\">docs</a>)<br/>Sweep page:  <a href=\"https://wandb.ai/panas/uncategorized/sweeps/1o39qn98\" target=\"_blank\">https://wandb.ai/panas/uncategorized/sweeps/1o39qn98</a>"
      ],
      "text/plain": [
       "<IPython.core.display.HTML object>"
      ]
     },
     "metadata": {},
     "output_type": "display_data"
    },
    {
     "data": {
      "text/html": [
       "Waiting for W&B process to finish... <strong style=\"color:green\">(success).</strong>"
      ],
      "text/plain": [
       "<IPython.core.display.HTML object>"
      ]
     },
     "metadata": {},
     "output_type": "display_data"
    },
    {
     "data": {
      "text/html": [
       "<style>\n",
       "    table.wandb td:nth-child(1) { padding: 0 10px; text-align: left ; width: auto;} td:nth-child(2) {text-align: left ; width: 100%}\n",
       "    .wandb-row { display: flex; flex-direction: row; flex-wrap: wrap; justify-content: flex-start; width: 100% }\n",
       "    .wandb-col { display: flex; flex-direction: column; flex-basis: 100%; flex: 1; padding: 10px; }\n",
       "    </style>\n",
       "<div class=\"wandb-row\"><div class=\"wandb-col\"><h3>Run history:</h3><br/><table class=\"wandb\"><tr><td>F1 Score</td><td>▁</td></tr><tr><td>Precision</td><td>▁</td></tr><tr><td>Recall</td><td>▁</td></tr><tr><td>Validation Accuracy</td><td>▁</td></tr></table><br/></div><div class=\"wandb-col\"><h3>Run summary:</h3><br/><table class=\"wandb\"><tr><td>F1 Score</td><td>0.5625</td></tr><tr><td>Precision</td><td>0.57817</td></tr><tr><td>Recall</td><td>0.57875</td></tr><tr><td>Validation Accuracy</td><td>0.5625</td></tr></table><br/></div></div>"
      ],
      "text/plain": [
       "<IPython.core.display.HTML object>"
      ]
     },
     "metadata": {},
     "output_type": "display_data"
    },
    {
     "data": {
      "text/html": [
       "Synced <strong style=\"color:#cdcd00\">honest-sweep-2</strong>: <a href=\"https://wandb.ai/panas/uncategorized/runs/4i6x523r\" target=\"_blank\">https://wandb.ai/panas/uncategorized/runs/4i6x523r</a><br/>Synced 4 W&B file(s), 0 media file(s), 0 artifact file(s) and 0 other file(s)"
      ],
      "text/plain": [
       "<IPython.core.display.HTML object>"
      ]
     },
     "metadata": {},
     "output_type": "display_data"
    },
    {
     "data": {
      "text/html": [
       "Find logs at: <code>./wandb/run-20220706_184710-4i6x523r/logs</code>"
      ],
      "text/plain": [
       "<IPython.core.display.HTML object>"
      ]
     },
     "metadata": {},
     "output_type": "display_data"
    },
    {
     "name": "stderr",
     "output_type": "stream",
     "text": [
      "\u001b[34m\u001b[1mwandb\u001b[0m: Agent Starting Run: 3dbeijxm with config:\n",
      "\u001b[34m\u001b[1mwandb\u001b[0m: \tmodel: Tree\n",
      "\u001b[34m\u001b[1mwandb\u001b[0m: \tn_estimators: 600\n",
      "Failed to detect the name of this notebook, you can set it manually with the WANDB_NOTEBOOK_NAME environment variable to enable code saving.\n"
     ]
    },
    {
     "data": {
      "text/html": [
       "Tracking run with wandb version 0.12.21"
      ],
      "text/plain": [
       "<IPython.core.display.HTML object>"
      ]
     },
     "metadata": {},
     "output_type": "display_data"
    },
    {
     "data": {
      "text/html": [
       "Run data is saved locally in <code>/home/b65580/Documents/clasificador_de_sentimientos/Prototypes/wandb/run-20220706_184734-3dbeijxm</code>"
      ],
      "text/plain": [
       "<IPython.core.display.HTML object>"
      ]
     },
     "metadata": {},
     "output_type": "display_data"
    },
    {
     "data": {
      "text/html": [
       "Syncing run <strong><a href=\"https://wandb.ai/panas/uncategorized/runs/3dbeijxm\" target=\"_blank\">floral-sweep-3</a></strong> to <a href=\"https://wandb.ai/panas/uncategorized\" target=\"_blank\">Weights & Biases</a> (<a href=\"https://wandb.me/run\" target=\"_blank\">docs</a>)<br/>Sweep page:  <a href=\"https://wandb.ai/panas/uncategorized/sweeps/1o39qn98\" target=\"_blank\">https://wandb.ai/panas/uncategorized/sweeps/1o39qn98</a>"
      ],
      "text/plain": [
       "<IPython.core.display.HTML object>"
      ]
     },
     "metadata": {},
     "output_type": "display_data"
    },
    {
     "name": "stderr",
     "output_type": "stream",
     "text": [
      "\u001b[34m\u001b[1mwandb\u001b[0m: Ctrl + C detected. Stopping sweep.\n"
     ]
    },
    {
     "data": {
      "text/html": [
       "Waiting for W&B process to finish... <strong style=\"color:red\">(failed 1).</strong> Press Control-C to abort syncing."
      ],
      "text/plain": [
       "<IPython.core.display.HTML object>"
      ]
     },
     "metadata": {},
     "output_type": "display_data"
    }
   ],
   "source": [
    "count = 100\n",
    "wandb.agent(sweep_id, function=train, count=count)"
   ]
  }
 ],
 "metadata": {
  "kernelspec": {
   "display_name": "Python 3.8.10 ('proto_env': venv)",
   "language": "python",
   "name": "python3"
  },
  "language_info": {
   "codemirror_mode": {
    "name": "ipython",
    "version": 3
   },
   "file_extension": ".py",
   "mimetype": "text/x-python",
   "name": "python",
   "nbconvert_exporter": "python",
   "pygments_lexer": "ipython3",
   "version": "3.8.10"
  },
  "orig_nbformat": 4,
  "vscode": {
   "interpreter": {
    "hash": "baec7400d85992b26791d896505ffc96025d0d1bd3b28cd4a61db3fa5e60465a"
   }
  }
 },
 "nbformat": 4,
 "nbformat_minor": 2
}
