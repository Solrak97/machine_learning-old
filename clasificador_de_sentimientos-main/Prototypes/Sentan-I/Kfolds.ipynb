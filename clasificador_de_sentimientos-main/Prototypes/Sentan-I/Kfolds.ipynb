{
 "cells": [
  {
   "cell_type": "code",
   "execution_count": null,
   "metadata": {},
   "outputs": [],
   "source": [
    "from Src.pre_processing import load_data, split, to_tensor, to_labels \n",
    "from Src.Sentan_Model import Sentan_simple\n",
    "from Src.Dias_Model import Dias_Model\n",
    "from Src.pre_processing import split, to_tensor\n",
    "\n",
    "from sklearn.ensemble import RandomForestClassifier\n",
    "import torch\n",
    "\n",
    "from sklearn.model_selection import train_test_split\n",
    "from torch.optim import Adam\n",
    "from torch import nn\n",
    "\n",
    "from torchmetrics import F1Score, Recall, Precision, Accuracy\n",
    "import wandb\n",
    "\n",
    "\n",
    "device = torch.device('cuda' if torch.cuda.is_available() else 'cpu')"
   ]
  },
  {
   "cell_type": "markdown",
   "metadata": {},
   "source": [
    "### kfold training"
   ]
  },
  {
   "cell_type": "code",
   "execution_count": null,
   "metadata": {},
   "outputs": [],
   "source": [
    "def train_kfold(X, y, n_folds):\n",
    "\n",
    "    f1 = F1Score(num_classes=8)\n",
    "    recall = Recall(average='macro', num_classes=8)\n",
    "    precision = Precision(average='macro', num_classes=8)\n",
    "    accuracy = Accuracy()\n",
    "\n",
    "    # K-folds\n",
    "    for train_idx, test_idx in split(X, y, splits=n_folds):\n",
    "\n",
    "        # Activación del entorno\n",
    "        wandb.init(project=\"Clasificador de sentimientos\", entity=\"panas\")\n",
    "\n",
    "        # Fold Data\n",
    "        x_train = X[train_idx]\n",
    "        y_train = y[train_idx]\n",
    "\n",
    "        x_test = X[test_idx]\n",
    "        y_test = y[test_idx]\n",
    "\n",
    "        y_test = torch.tensor(y_test)\n",
    "\n",
    "\n",
    "        with wandb.init() as run:\n",
    "            config = wandb.config\n",
    "    \n",
    "            classifier = RandomForestClassifier(n_estimators = 1000, random_state = 0)   \n",
    "            pred = classifier.fit(x_train, y_train).predict(x_test)         \n",
    "            \n",
    "            # Login de resultados a Weights and biases\n",
    "            pred = torch.tensor(pred)\n",
    "            wandb.log({'Validation Accuracy': accuracy(pred, y_test), 'F1 Score': f1(\n",
    "                pred, y_test), 'Recall': recall(pred, y_test), 'Precision': precision(pred, y_test)})\n",
    "\n",
    "            print({'Validation Accuracy': accuracy(pred, y_test), 'F1 Score': f1(\n",
    "                pred, y_test), 'Recall': recall(pred, y_test), 'Precision': precision(pred, y_test)})"
   ]
  },
  {
   "cell_type": "markdown",
   "metadata": {},
   "source": [
    "## Data"
   ]
  },
  {
   "cell_type": "code",
   "execution_count": null,
   "metadata": {},
   "outputs": [],
   "source": [
    "data_path = 'Data/data.pkl'\n",
    "\n",
    "X, y, labels = load_data(data_path)"
   ]
  },
  {
   "cell_type": "markdown",
   "metadata": {},
   "source": [
    "## Configuración W&B"
   ]
  },
  {
   "cell_type": "code",
   "execution_count": null,
   "metadata": {},
   "outputs": [],
   "source": [
    "epochs = 200\n",
    "learning_rate = 1e-3\n",
    "batch_size = X.shape[0]\n",
    "\n",
    "\n",
    "# Configuración de entorno weights and biases\n",
    "wandb.config = {\n",
    "    \"model-name\": 'Tree Model',\n",
    "    \"learning_rate\": learning_rate,\n",
    "    \"epochs\": epochs,\n",
    "    \"batch_size\": batch_size\n",
    "\n",
    "}"
   ]
  },
  {
   "cell_type": "markdown",
   "metadata": {},
   "source": [
    "## Training KFold"
   ]
  },
  {
   "cell_type": "code",
   "execution_count": null,
   "metadata": {},
   "outputs": [],
   "source": [
    "# Entrenamiento de n modelos\n",
    "folds = 10\n",
    "\n",
    "train_kfold(X, y, folds)"
   ]
  }
 ],
 "metadata": {
  "kernelspec": {
   "display_name": "Python 3.10.5 ('proto_env': venv)",
   "language": "python",
   "name": "python3"
  },
  "language_info": {
   "codemirror_mode": {
    "name": "ipython",
    "version": 3
   },
   "file_extension": ".py",
   "mimetype": "text/x-python",
   "name": "python",
   "nbconvert_exporter": "python",
   "pygments_lexer": "ipython3",
   "version": "3.10.5"
  },
  "orig_nbformat": 4,
  "vscode": {
   "interpreter": {
    "hash": "1ebf696fc0f3b29ed45d890984893e4cf0cd944b6917fbad0ebfb05b173fa8cb"
   }
  }
 },
 "nbformat": 4,
 "nbformat_minor": 2
}
