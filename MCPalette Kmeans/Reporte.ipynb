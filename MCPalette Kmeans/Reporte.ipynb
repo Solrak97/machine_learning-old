{
 "cells": [
  {
   "cell_type": "code",
   "execution_count": 1,
   "metadata": {},
   "outputs": [],
   "source": [
    "from palette import find_palette\n",
    "from utils import load_image\n",
    "import numpy as np\n",
    "from matplotlib import pyplot as plt"
   ]
  },
  {
   "cell_type": "markdown",
   "metadata": {},
   "source": [
    "## Graficación de una paleta"
   ]
  },
  {
   "cell_type": "code",
   "execution_count": 2,
   "metadata": {},
   "outputs": [],
   "source": [
    "\n",
    "def plot_palette(img, colors):\n",
    "    f, (a0, a1, a2, a3, a4, a5) = plt.subplots(1, 6, gridspec_kw={'width_ratios': [3, 1, 1, 1, 1, 1]})\n",
    "\n",
    "    a0.imshow(img.astype(int), extent=[0, 128, 0, 128])\n",
    "    a1.imshow([[colors[0].astype(int)]])\n",
    "    a2.imshow([[colors[1].astype(int)]])\n",
    "    a3.imshow([[colors[2].astype(int)]])\n",
    "    a4.imshow([[colors[3].astype(int)]])\n",
    "    a5.imshow([[colors[4].astype(int)]])\n",
    "\n",
    "    plt.show()"
   ]
  },
  {
   "cell_type": "markdown",
   "metadata": {},
   "source": [
    "## Generación del experimento"
   ]
  },
  {
   "cell_type": "code",
   "execution_count": 3,
   "metadata": {},
   "outputs": [
    {
     "ename": "NameError",
     "evalue": "name 'np' is not defined",
     "output_type": "error",
     "traceback": [
      "\u001b[0;31m---------------------------------------------------------------------------\u001b[0m",
      "\u001b[0;31mNameError\u001b[0m                                 Traceback (most recent call last)",
      "\u001b[1;32m/home/solrak/Documents/MCPalette-Kmeans/Reporte.ipynb Cell 5'\u001b[0m in \u001b[0;36m<cell line: 5>\u001b[0;34m()\u001b[0m\n\u001b[1;32m     <a href='vscode-notebook-cell:/home/solrak/Documents/MCPalette-Kmeans/Reporte.ipynb#ch0000006?line=11'>12</a>\u001b[0m     clusters\u001b[39m.\u001b[39mappend(palette[\u001b[39m'\u001b[39m\u001b[39mCentroids\u001b[39m\u001b[39m'\u001b[39m])\n\u001b[1;32m     <a href='vscode-notebook-cell:/home/solrak/Documents/MCPalette-Kmeans/Reporte.ipynb#ch0000006?line=12'>13</a>\u001b[0m     errors\u001b[39m.\u001b[39mappend(palette[\u001b[39m'\u001b[39m\u001b[39mError\u001b[39m\u001b[39m'\u001b[39m])\n\u001b[0;32m---> <a href='vscode-notebook-cell:/home/solrak/Documents/MCPalette-Kmeans/Reporte.ipynb#ch0000006?line=14'>15</a>\u001b[0m min_error_idx \u001b[39m=\u001b[39m np\u001b[39m.\u001b[39margmin(np\u001b[39m.\u001b[39marray(errors))\n\u001b[1;32m     <a href='vscode-notebook-cell:/home/solrak/Documents/MCPalette-Kmeans/Reporte.ipynb#ch0000006?line=15'>16</a>\u001b[0m colors \u001b[39m=\u001b[39m clusters[min_error_idx]\n\u001b[1;32m     <a href='vscode-notebook-cell:/home/solrak/Documents/MCPalette-Kmeans/Reporte.ipynb#ch0000006?line=16'>17</a>\u001b[0m err \u001b[39m=\u001b[39m errors[min_error_idx]\n",
      "\u001b[0;31mNameError\u001b[0m: name 'np' is not defined"
     ]
    }
   ],
   "source": [
    "paths = [f'Imgs/{i}.jpg' for i in range(1,5)]\n",
    "types = ['means', 'medians']\n",
    "distances = ['euclidean', 'manhattan']\n",
    "\n",
    "for path in paths:\n",
    "    for type in types:\n",
    "        for distance in distances:\n",
    "            clusters, errors = [], []\n",
    "            data, img = load_image(path, (128, 128))\n",
    "            for idx in range(3):\n",
    "                palette = find_palette(data, type, distance)\n",
    "                clusters.append(palette['Centroids'])\n",
    "                errors.append(palette['Error'])\n",
    "            \n",
    "            min_error_idx = np.argmin(np.array(errors))\n",
    "            colors = clusters[min_error_idx]\n",
    "            err = errors[min_error_idx]\n",
    "            plot_palette(img, colors)\n",
    "            print(f'''\n",
    "                Total Error:    {err}\n",
    "                Clusters:       {colors}\n",
    "            ''')\n"
   ]
  }
 ],
 "metadata": {
  "kernelspec": {
   "display_name": "Python 3.10.5 ('env': venv)",
   "language": "python",
   "name": "python3"
  },
  "language_info": {
   "codemirror_mode": {
    "name": "ipython",
    "version": 3
   },
   "file_extension": ".py",
   "mimetype": "text/x-python",
   "name": "python",
   "nbconvert_exporter": "python",
   "pygments_lexer": "ipython3",
   "version": "3.10.5"
  },
  "orig_nbformat": 4,
  "vscode": {
   "interpreter": {
    "hash": "1f8704f0195367630fe144af3c2a987d31a904366449cd96c1639b18c30e0136"
   }
  }
 },
 "nbformat": 4,
 "nbformat_minor": 2
}
