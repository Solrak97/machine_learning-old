{
  "cells": [
    {
      "cell_type": "markdown",
      "metadata": {
        "id": "HJV-TQ_UVyMr"
      },
      "source": [
        "# Analisis preeliminar de los datos"
      ]
    },
    {
      "cell_type": "markdown",
      "metadata": {
        "id": "6Ly_FJ3Wl1Gw"
      },
      "source": [
        "## Importación de los datos desde Kaggle"
      ]
    },
    {
      "cell_type": "code",
      "execution_count": 1,
      "metadata": {
        "id": "lzLnkSbbuxN8"
      },
      "outputs": [],
      "source": [
        "%%capture\n",
        "! pip install kaggle wavio pydub keras-metrics"
      ]
    },
    {
      "cell_type": "code",
      "execution_count": 2,
      "metadata": {
        "id": "D3DLGLOSl7VF"
      },
      "outputs": [],
      "source": [
        "import soundfile\n",
        "import numpy as np\n",
        "import librosa\n",
        "import glob\n",
        "import os\n",
        "from pydub import AudioSegment\n",
        "import seaborn as sns\n",
        "from matplotlib import pyplot as plt\n",
        "import pandas as pd\n",
        "\n",
        "from sklearn.decomposition import PCA\n",
        "from sklearn.preprocessing import StandardScaler\n",
        "\n",
        "import random\n",
        "import os"
      ]
    },
    {
      "cell_type": "markdown",
      "metadata": {
        "id": "nX9tOOFikWRE"
      },
      "source": [
        "### Configuración de la fuente de datos"
      ]
    },
    {
      "cell_type": "code",
      "execution_count": 3,
      "metadata": {
        "id": "cJGmZqHokdWT"
      },
      "outputs": [],
      "source": [
        "# kaggle\n",
        "# processed\n",
        "# processed_augmented\n",
        "data_source = 'processed'\n",
        "os.environ[\"DATA_SOURCE\"] = data_source"
      ]
    },
    {
      "cell_type": "code",
      "execution_count": 4,
      "metadata": {
        "colab": {
          "base_uri": "https://localhost:8080/"
        },
        "id": "dA38PxMfk8ZH",
        "outputId": "9a6be2a0-b80b-42b2-d8f3-4b80d214a950"
      },
      "outputs": [
        {
          "name": "stderr",
          "output_type": "stream",
          "text": [
            "  % Total    % Received % Xferd  Average Speed   Time    Time     Time  Current\n",
            "                                 Dload  Upload   Total   Spent    Left  Speed\n",
            "\r  0     0    0     0    0     0      0      0 --:--:-- --:--:-- --:--:--     0\r  0     0    0     0    0     0      0      0 --:--:-- --:--:-- --:--:--     0\r100 1448k  100 1448k    0     0  2171k      0 --:--:-- --:--:-- --:--:-- 2168k\n"
          ]
        }
      ],
      "source": [
        "%%bash\n",
        "rm -rf *\n",
        "\n",
        "if [ \"$DATA_SOURCE\" == \"kaggle\" ];\n",
        "then\n",
        "mkdir ~/.kaggle\n",
        "curl https://raw.githubusercontent.com/Solrak97/clasificador_de_sentimientos/main/kaggle.json > kaggle.json\n",
        "cp kaggle.json ~/.kaggle/\n",
        "chmod 600 ~/.kaggle/kaggle.json\n",
        "kaggle datasets download uwrfkaggler/ravdess-emotional-speech-audio\n",
        "unzip ravdess-emotional-speech-audio.zip\n",
        "fi\n",
        "\n",
        "if [ \"$DATA_SOURCE\" == \"processed\" ];\n",
        "then\n",
        "curl https://raw.githubusercontent.com/Solrak97/clasificador_de_sentimientos/main/data.pkl > data.pkl\n",
        "fi\n",
        "\n",
        "if [ \"$DATA_SOURCE\" == \"processed_augmented\" ];\n",
        "then\n",
        "curl https://raw.githubusercontent.com/Solrak97/clasificador_de_sentimientos/main/data_augmentation.pkl > data.pkl\n",
        "fi"
      ]
    },
    {
      "cell_type": "markdown",
      "metadata": {
        "id": "1-VBg_UH1cQI"
      },
      "source": [
        "### Parece que existen algunos problemas de overfitting por lo que decidimos crear un poco más de muestras con data augmentation a ver si sale"
      ]
    },
    {
      "cell_type": "code",
      "execution_count": 5,
      "metadata": {
        "id": "Bd8zvy681tlI"
      },
      "outputs": [],
      "source": [
        "from pydub import AudioSegment\n",
        "\n",
        "\n",
        "def cambio_velocidad(sound, speed=1.0):\n",
        "\n",
        "    sound_with_altered_frame_rate = sound._spawn(sound.raw_data, overrides={\n",
        "         \"frame_rate\": int(sound.frame_rate * speed)\n",
        "      })\n",
        "\n",
        "    return sound_with_altered_frame_rate.set_frame_rate(sound.frame_rate)"
      ]
    },
    {
      "cell_type": "code",
      "execution_count": 6,
      "metadata": {
        "id": "B_2yQeSM1nyF"
      },
      "outputs": [],
      "source": [
        "if data_source == 'kaggle':\n",
        "\n",
        "  for file in glob.glob(\"Actor_*/*.wav\"):\n",
        "\n",
        "    file_name = os.path.basename(file)\n",
        "  \n",
        "    # El audio viene en estereo para algunas partes así que se pasa a mono\n",
        "    sound = AudioSegment.from_wav(file)\n",
        "    sound = sound.set_channels(1)\n",
        "    sound.export(file, format=\"wav\")\n",
        "\n",
        "    slow_sound = cambio_velocidad(sound, 0.81)\n",
        "\n",
        "    fast_sound = cambio_velocidad(sound, 1.23)\n",
        "\n",
        "    file = file.split(\".\")[0]\n",
        "    sound.export(f'{file}-FST.wav', format=\"wav\")\n",
        "    sound.export(f'{file}-SLW.wav', format=\"wav\")\n"
      ]
    },
    {
      "cell_type": "markdown",
      "metadata": {
        "id": "1jtAJAd1trCH"
      },
      "source": [
        "### Transformación de los datos a las características base del estudio de Dias Issa et al.\n",
        "Se extraerá un grupo de características para analizar. Hemos notado que hay diferencias en los tamaños de los audios por lo que decidimos revisar como funcionan correctamente los tamaños de datos y otras de estas caracteristicas."
      ]
    },
    {
      "cell_type": "code",
      "execution_count": 7,
      "metadata": {
        "id": "TsMfB3lK5RLz"
      },
      "outputs": [],
      "source": [
        "INT_2_EMOTION = {\n",
        "    \"01\": \"neutral\",\n",
        "    \"02\": \"calm\",\n",
        "    \"03\": \"happy\",\n",
        "    \"04\": \"sad\",\n",
        "    \"05\": \"angry\",\n",
        "    \"06\": \"fearful\",\n",
        "    \"07\": \"disgust\",\n",
        "    \"08\": \"surprised\"\n",
        "}"
      ]
    },
    {
      "cell_type": "code",
      "execution_count": 8,
      "metadata": {
        "id": "-aJdzXuPtvlr"
      },
      "outputs": [],
      "source": [
        "name, _len, emotions, numerable_emotions,  mfccs, chromas, mels, contrasts, tonnetz, composite = [], [], [], [], [], [], [], [], [], []\n",
        "\n",
        "\n",
        "if data_source == 'kaggle':\n",
        "  for file in glob.glob(\"Actor_*/*.wav\"):\n",
        "      file_name = os.path.basename(file)\n",
        "\n",
        "      sound = AudioSegment.from_wav(file)\n",
        "      sound = sound.set_channels(1)\n",
        "      sound.export(file, format=\"wav\")\n",
        "\n",
        "      name_split = file_name.split(\"-\")\n",
        "      emotion = INT_2_EMOTION[name_split[2]]\n",
        "\n",
        "      with soundfile.SoundFile(file) as sound_file:\n",
        "        X = sound_file.read(dtype=\"float32\")\n",
        "        sample_rate = sound_file.samplerate\n",
        "        stft = np.abs(librosa.stft(X))\n",
        "        mfccs.append(np.mean(librosa.feature.mfcc(y=X, sr=sample_rate, n_mfcc=84).T, axis=0))\n",
        "        chromas.append(np.mean(librosa.feature.chroma_stft(S=stft, sr=sample_rate).T,axis=0))\n",
        "        mels.append(np.mean(librosa.feature.melspectrogram(X, sr=sample_rate, n_mels=84).T,axis=0))\n",
        "        contrasts.append(np.mean(librosa.feature.spectral_contrast(S=stft, sr=sample_rate).T,axis=0))\n",
        "        tonnetz.append(np.mean(librosa.feature.tonnetz(y=librosa.effects.harmonic(X), sr=sample_rate).T,axis=0))\n",
        "        composite.append(np.concatenate((mfccs[-1], chromas[-1], mels[-1], contrasts[-1], tonnetz[-1])))  \n",
        "        _len.append(librosa.get_duration(y=X, sr=sample_rate))\n",
        "\n",
        "      name.append(file_name)\n",
        "      emotions.append(emotion)\n",
        "      numerable_emotions.append(name_split[2])\n",
        "\n",
        "\n",
        "\n",
        "  data = pd.DataFrame({'File name': name, 'Emotion': emotions, 'Ordinal_Emotion': numerable_emotions, 'Duration': _len,\n",
        "                        'MFCC': mfccs, 'Chroma': chromas, 'Mel': mels, 'Contrast': contrasts, 'Tonnetz': tonnetz, 'Composite_Vector': composite})"
      ]
    },
    {
      "cell_type": "code",
      "execution_count": 9,
      "metadata": {
        "id": "ys9429NElPTT"
      },
      "outputs": [],
      "source": [
        "if data_source == 'kaggle':\n",
        "  data.to_pickle('data.pkl')\n",
        "else:\n",
        "  data = pd.read_pickle('data.pkl')"
      ]
    },
    {
      "cell_type": "markdown",
      "metadata": {
        "id": "t91rBCyh9hZj"
      },
      "source": [
        "## Transformación de los datos utilizando Análisis de Componentes Principales (PCA)"
      ]
    },
    {
      "cell_type": "code",
      "execution_count": 10,
      "metadata": {
        "id": "BSFJ8zmA9ZY6"
      },
      "outputs": [],
      "source": [
        "X = data.drop(columns=['Emotion', 'File name'])\n",
        "X = np.array([np.hstack([X['MFCC'][i], X['Chroma'][i], X['Mel'][i], \n",
        "                         X['Contrast'][i], X['Tonnetz'][i]]) for i in range(len(X.index))])"
      ]
    },
    {
      "cell_type": "code",
      "execution_count": 11,
      "metadata": {
        "colab": {
          "base_uri": "https://localhost:8080/"
        },
        "id": "sruN7Czw612s",
        "outputId": "b21536bf-5356-41b5-fea2-0da37ba46650"
      },
      "outputs": [
        {
          "data": {
            "text/plain": [
              "array([0.22510771, 0.09686766, 0.08505836])"
            ]
          },
          "execution_count": 11,
          "metadata": {},
          "output_type": "execute_result"
        }
      ],
      "source": [
        "scaler = StandardScaler()\n",
        "scaler.fit(X)\n",
        "X=scaler.transform(X) \n",
        "pca = PCA(3)\n",
        "reduced = pca.fit_transform(X)\n",
        "pca.explained_variance_ratio_"
      ]
    },
    {
      "cell_type": "markdown",
      "metadata": {
        "id": "-nEirhvGCRpZ"
      },
      "source": [
        "### Separación no supervisada como intento de visualizar los datos agrupados."
      ]
    },
    {
      "cell_type": "code",
      "execution_count": 12,
      "metadata": {
        "id": "PNv7Jb_suYsj"
      },
      "outputs": [],
      "source": [
        "from sklearn.cluster import KMeans\n",
        "\n",
        "label = KMeans(n_clusters=8, random_state=0).fit_predict(reduced)\n",
        "labeled_kmeans = pd.DataFrame({'X': reduced[:,0], 'Y': reduced[:,1], 'label': label, 'Emotion': data['Emotion']})\n",
        "\n",
        "\n",
        "filtered_label0 = reduced[label == 0]\n",
        "filtered_label0 = reduced[label == 1]\n",
        "filtered_label0 = reduced[label == 2]\n",
        "filtered_label0 = reduced[label == 3]\n",
        "filtered_label0 = reduced[label == 4]\n",
        "filtered_label0 = reduced[label == 5]\n",
        "filtered_label0 = reduced[label == 6]\n",
        "filtered_label0 = reduced[label == 7]\n",
        " "
      ]
    },
    {
      "cell_type": "code",
      "execution_count": 13,
      "metadata": {
        "colab": {
          "base_uri": "https://localhost:8080/",
          "height": 279
        },
        "id": "IwOXPSkk5iCX",
        "outputId": "b24bc52a-c909-43e7-d316-9ba5efca2279"
      },
      "outputs": [
        {
          "data": {
            "image/png": "[encoded data removed]",
            "text/plain": [
              "<Figure size 432x288 with 1 Axes>"
            ]
          },
          "metadata": {
            "needs_background": "light"
          },
          "output_type": "display_data"
        }
      ],
      "source": [
        "sns.scatterplot(data=labeled_kmeans, x=\"X\", y=\"Y\", hue='Emotion')\n",
        "plt.show()"
      ]
    },
    {
      "cell_type": "markdown",
      "metadata": {
        "id": "AaXnNhO0NOGf"
      },
      "source": [
        "## Prueba de separación con el modelo base"
      ]
    },
    {
      "cell_type": "code",
      "execution_count": 14,
      "metadata": {
        "id": "ePC9lniLNXOw"
      },
      "outputs": [],
      "source": [
        "from keras import Sequential\n",
        "from keras.layers import Dropout, MaxPool1D, Flatten, Dense, ReLU, Input, BatchNormalization, Softmax\n",
        "from keras.layers.convolutional import Conv1D\n",
        "from keras.layers.advanced_activations import Softmax\n",
        "import tensorflow as tf\n",
        "from tensorflow.keras.optimizers import RMSprop\n",
        "from sklearn.preprocessing import StandardScaler, OneHotEncoder\n",
        "from sklearn.model_selection import train_test_split, KFold"
      ]
    },
    {
      "cell_type": "code",
      "execution_count": 15,
      "metadata": {
        "id": "6mGSU-9aNSS4"
      },
      "outputs": [],
      "source": [
        "def build_baseline():\n",
        "  model = Sequential()\n",
        "\n",
        "  # input layer\n",
        "  model.add(Input(shape=(193, 1)))\n",
        "  \n",
        "  # Primer Convolutional layer\n",
        "  model.add(Conv1D(strides=1, filters=255, kernel_size=5))\n",
        "  model.add(BatchNormalization())\n",
        "  model.add(ReLU())\n",
        "\n",
        "  # Segund Convolutional layer\n",
        "  model.add(Conv1D(strides=1, filters=128, kernel_size=5))\n",
        "  model.add(ReLU())\n",
        "  model.add(Dropout(rate=0.1))\n",
        "  model.add(BatchNormalization())\n",
        "\n",
        "  # Capa de Maxpooling\n",
        "  model.add(MaxPool1D(pool_size=8))\n",
        "\n",
        "  # 3 capas convolucionales intermedias\n",
        "  model.add(Conv1D(strides=1, filters=128, kernel_size=5))\n",
        "  model.add(ReLU())\n",
        "\n",
        "  model.add(Conv1D(strides=1, filters=128, kernel_size=5))\n",
        "  model.add(ReLU())\n",
        "\n",
        "  model.add(Conv1D(strides=1, filters=128, kernel_size=5))\n",
        "  model.add(BatchNormalization())\n",
        "  model.add(ReLU())\n",
        "  model.add(Dropout(rate=0.2))\n",
        "\n",
        "  # Capa convolucional final\n",
        "  model.add(Conv1D(strides=1, filters=128, kernel_size=5))\n",
        "  model.add(Flatten())\n",
        "  model.add(Dropout(rate=0.2))\n",
        "\n",
        "  # Capa densa, tiene la misma cantidad de neuronas que de clases a predecir\n",
        "  model.add(Dense(units=8))\n",
        "  model.add(BatchNormalization())\n",
        "  model.add(Softmax())  \n",
        "  return model"
      ]
    },
    {
      "cell_type": "markdown",
      "metadata": {
        "id": "ru-ZZp03ONIy"
      },
      "source": [
        "### Preparación de los datos"
      ]
    },
    {
      "cell_type": "code",
      "execution_count": 16,
      "metadata": {
        "colab": {
          "base_uri": "https://localhost:8080/"
        },
        "id": "cIqobLbSNao-",
        "outputId": "b31602e6-f331-4b67-ffe0-dc88ad9ade58"
      },
      "outputs": [
        {
          "name": "stdout",
          "output_type": "stream",
          "text": [
            "(1440, 193)\n"
          ]
        }
      ],
      "source": [
        "# Forgive me god, but it has to be done twice\n",
        "X = np.array([np.hstack([data['MFCC'][i], data['Chroma'][i], data['Mel'][i], \n",
        "                         data['Contrast'][i], data['Tonnetz'][i]]) for i in range(len(data.index))])\n",
        "\n",
        "print(X.shape)\n",
        "\n",
        "scaler = StandardScaler()\n",
        "scaler.fit(X)\n",
        "X=scaler.transform(X)\n",
        "Y = np.array(data['Emotion'])\n",
        "\n",
        "# Codificación de one hot encoding\n",
        "encoder = OneHotEncoder()\n",
        "Y = encoder.fit_transform(np.array(Y).reshape(-1,1)).toarray()\n",
        "\n",
        "X_train, X_test, y_train, y_test = train_test_split(X, Y, test_size = 0.2)"
      ]
    },
    {
      "cell_type": "markdown",
      "metadata": {
        "id": "dPunUi4sOQUw"
      },
      "source": [
        "### Entrenamiento y predicciones"
      ]
    },
    {
      "cell_type": "code",
      "execution_count": 23,
      "metadata": {
        "colab": {
          "base_uri": "https://localhost:8080/"
        },
        "id": "hpTUrO9IQUNt",
        "outputId": "73c87e45-f2d7-46fd-9aa3-cbb4d850052e"
      },
      "outputs": [
        {
          "name": "stdout",
          "output_type": "stream",
          "text": [
            "Model: \"sequential_6\"\n",
            "_________________________________________________________________\n",
            " Layer (type)                Output Shape              Param #   \n",
            "=================================================================\n",
            " conv1d_36 (Conv1D)          (None, 189, 255)          1530      \n",
            "                                                                 \n",
            " batch_normalization_24 (Bat  (None, 189, 255)         1020      \n",
            " chNormalization)                                                \n",
            "                                                                 \n",
            " re_lu_30 (ReLU)             (None, 189, 255)          0         \n",
            "                                                                 \n",
            " conv1d_37 (Conv1D)          (None, 185, 128)          163328    \n",
            "                                                                 \n",
            " re_lu_31 (ReLU)             (None, 185, 128)          0         \n",
            "                                                                 \n",
            " dropout_18 (Dropout)        (None, 185, 128)          0         \n",
            "                                                                 \n",
            " batch_normalization_25 (Bat  (None, 185, 128)         512       \n",
            " chNormalization)                                                \n",
            "                                                                 \n",
            " max_pooling1d_6 (MaxPooling  (None, 23, 128)          0         \n",
            " 1D)                                                             \n",
            "                                                                 \n",
            " conv1d_38 (Conv1D)          (None, 19, 128)           82048     \n",
            "                                                                 \n",
            " re_lu_32 (ReLU)             (None, 19, 128)           0         \n",
            "                                                                 \n",
            " conv1d_39 (Conv1D)          (None, 15, 128)           82048     \n",
            "                                                                 \n",
            " re_lu_33 (ReLU)             (None, 15, 128)           0         \n",
            "                                                                 \n",
            " conv1d_40 (Conv1D)          (None, 11, 128)           82048     \n",
            "                                                                 \n",
            " batch_normalization_26 (Bat  (None, 11, 128)          512       \n",
            " chNormalization)                                                \n",
            "                                                                 \n",
            " re_lu_34 (ReLU)             (None, 11, 128)           0         \n",
            "                                                                 \n",
            " dropout_19 (Dropout)        (None, 11, 128)           0         \n",
            "                                                                 \n",
            " conv1d_41 (Conv1D)          (None, 7, 128)            82048     \n",
            "                                                                 \n",
            " flatten_6 (Flatten)         (None, 896)               0         \n",
            "                                                                 \n",
            " dropout_20 (Dropout)        (None, 896)               0         \n",
            "                                                                 \n",
            " dense_6 (Dense)             (None, 8)                 7176      \n",
            "                                                                 \n",
            " batch_normalization_27 (Bat  (None, 8)                32        \n",
            " chNormalization)                                                \n",
            "                                                                 \n",
            " softmax_6 (Softmax)         (None, 8)                 0         \n",
            "                                                                 \n",
            "=================================================================\n",
            "Total params: 502,302\n",
            "Trainable params: 501,264\n",
            "Non-trainable params: 1,038\n",
            "_________________________________________________________________\n"
          ]
        }
      ],
      "source": [
        "model = build_baseline()\n",
        "model.compile(optimizer = RMSprop(learning_rate=1e-5) , loss = 'categorical_crossentropy' , metrics = ['accuracy'])\n",
        "model.summary()"
      ]
    },
    {
      "cell_type": "code",
      "execution_count": 18,
      "metadata": {
        "colab": {
          "base_uri": "https://localhost:8080/",
          "height": 295
        },
        "id": "hy4Yd0p6OMSk",
        "outputId": "7142dcc8-23e7-4d83-80e0-abdaf156602b"
      },
      "outputs": [
        {
          "data": {
            "image/png": "[encoded data removed]",
            "text/plain": [
              "<Figure size 432x288 with 1 Axes>"
            ]
          },
          "metadata": {
            "needs_background": "light"
          },
          "output_type": "display_data"
        }
      ],
      "source": [
        "history = model.fit(X_train, y_train, validation_split = 0.20, epochs=700, verbose=False)\n",
        "plt.plot(history.history['accuracy'])\n",
        "plt.plot(history.history['val_accuracy'])\n",
        "plt.title('model accuracy')\n",
        "plt.ylabel('accuracy')\n",
        "plt.xlabel('epoch')\n",
        "plt.legend(['train', 'pred'], loc='upper left')\n",
        "plt.show()"
      ]
    },
    {
      "cell_type": "code",
      "execution_count": 19,
      "metadata": {
        "colab": {
          "base_uri": "https://localhost:8080/"
        },
        "id": "icpz76admoCK",
        "outputId": "627b117e-949e-4ed3-c7b0-3b53013c8609"
      },
      "outputs": [
        {
          "name": "stdout",
          "output_type": "stream",
          "text": [
            "9/9 [==============================] - 0s 5ms/step - loss: 1.7099 - accuracy: 0.3715\n",
            "Test loss: 1.709922194480896\n",
            "Test accuracy: 0.3715277910232544\n"
          ]
        }
      ],
      "source": [
        "score = model.evaluate(X_test, y_test)\n",
        "print('Test loss:', score[0]) \n",
        "print('Test accuracy:', score[1])"
      ]
    },
    {
      "cell_type": "markdown",
      "metadata": {
        "id": "l0ZO2vrCfkx-"
      },
      "source": [
        "### 5-K fold validation, 700 épocas"
      ]
    },
    {
      "cell_type": "code",
      "execution_count": 20,
      "metadata": {
        "id": "jngaUdppbtzG"
      },
      "outputs": [],
      "source": [
        "def kfold(size, k):\n",
        "  index = [i for i in range(size)]\n",
        "  index_reduct = index\n",
        "  splits = []\n",
        "  for i in range(k):\n",
        "    test = random.sample(index_reduct, round(size/k))\n",
        "    train = [x for x in index if x not in test]\n",
        "    index_reduct = [x for x in index_reduct if x not in test]\n",
        "    splits.append((train, test))\n",
        "  return splits\n",
        "    "
      ]
    },
    {
      "cell_type": "code",
      "execution_count": 21,
      "metadata": {
        "id": "XQ-a4Esr_eNW"
      },
      "outputs": [],
      "source": [
        "from keras import backend as K\n",
        "\n",
        "def recall_m(y_true, y_pred):\n",
        "    true_positives = K.sum(K.round(K.clip(y_true * y_pred, 0, 1)))\n",
        "    possible_positives = K.sum(K.round(K.clip(y_true, 0, 1)))\n",
        "    recall = true_positives / (possible_positives + K.epsilon())\n",
        "    return recall\n",
        "\n",
        "def precision_m(y_true, y_pred):\n",
        "    true_positives = K.sum(K.round(K.clip(y_true * y_pred, 0, 1)))\n",
        "    predicted_positives = K.sum(K.round(K.clip(y_pred, 0, 1)))\n",
        "    precision = true_positives / (predicted_positives + K.epsilon())\n",
        "    return precision\n",
        "\n",
        "def f1_m(y_true, y_pred):\n",
        "    precision = precision_m(y_true, y_pred)\n",
        "    recall = recall_m(y_true, y_pred)\n",
        "    return 2*((precision*recall)/(precision+recall+K.epsilon()))"
      ]
    },
    {
      "cell_type": "code",
      "execution_count": 22,
      "metadata": {
        "colab": {
          "base_uri": "https://localhost:8080/"
        },
        "id": "c5aIXZ3ffpSb",
        "outputId": "4d13f78a-6f55-4637-ddeb-fa1bacf0de2e"
      },
      "outputs": [
        {
          "name": "stdout",
          "output_type": "stream",
          "text": [
            "Model evaluation #0:\n",
            "9/9 [==============================] - 0s 5ms/step - loss: 1.5775 - acc: 0.4688 - f1_m: 0.1915 - precision_m: 0.8221 - recall_m: 0.1111\n",
            "Test Loss: 1.577521800994873\n",
            "Test Accuracy: 0.46875\n",
            "Test F1: 0.19151532649993896\n",
            "Test Precision: 0.8220899105072021\n",
            "Test Recall: 0.1111111119389534\n",
            "Model evaluation #1:\n",
            "9/9 [==============================] - 0s 4ms/step - loss: 1.6150 - acc: 0.4028 - f1_m: 0.1904 - precision_m: 0.7434 - recall_m: 0.1111\n",
            "Test Loss: 1.6149648427963257\n",
            "Test Accuracy: 0.4027777910232544\n",
            "Test F1: 0.19041408598423004\n",
            "Test Precision: 0.7433862090110779\n",
            "Test Recall: 0.1111111119389534\n",
            "Model evaluation #2:\n",
            "9/9 [==============================] - 0s 5ms/step - loss: 1.5991 - acc: 0.4062 - f1_m: 0.2364 - precision_m: 0.7324 - recall_m: 0.1424\n",
            "Test Loss: 1.599145770072937\n",
            "Test Accuracy: 0.40625\n",
            "Test F1: 0.23644715547561646\n",
            "Test Precision: 0.7324073910713196\n",
            "Test Recall: 0.1423611044883728\n",
            "Model evaluation #3:\n",
            "9/9 [==============================] - 0s 5ms/step - loss: 1.5188 - acc: 0.5035 - f1_m: 0.2070 - precision_m: 0.6721 - recall_m: 0.1250\n",
            "Test Loss: 1.5187811851501465\n",
            "Test Accuracy: 0.5034722089767456\n",
            "Test F1: 0.20700259506702423\n",
            "Test Precision: 0.6721341013908386\n",
            "Test Recall: 0.125\n",
            "Model evaluation #4:\n",
            "9/9 [==============================] - 0s 5ms/step - loss: 1.5511 - acc: 0.4722 - f1_m: 0.2308 - precision_m: 0.8230 - recall_m: 0.1354\n",
            "Test Loss: 1.5511256456375122\n",
            "Test Accuracy: 0.4722222089767456\n",
            "Test F1: 0.23081199824810028\n",
            "Test Precision: 0.8230158686637878\n",
            "Test Recall: 0.1354166716337204\n"
          ]
        }
      ],
      "source": [
        "X = np.array([np.hstack([data['MFCC'][i], data['Chroma'][i], data['Mel'][i], \n",
        "                         data['Contrast'][i], data['Tonnetz'][i]]) for i in range(len(data.index))])\n",
        "\n",
        "scaler = StandardScaler()\n",
        "scaler.fit(X)\n",
        "X=scaler.transform(X)\n",
        "Y = np.array(data['Emotion'])\n",
        "encoder = OneHotEncoder()\n",
        "y = encoder.fit_transform(np.array(Y).reshape(-1,1)).toarray()\n",
        "fold_idx = kfold(len(y), 5)\n",
        "s = 0\n",
        "\n",
        "for train, test in fold_idx:\n",
        "  X_train, X_test = X[train], X[test]\n",
        "  y_train, y_test = y[train], y[test]\n",
        "\n",
        "  model = build_baseline()\n",
        "  model.compile(optimizer = RMSprop(learning_rate=1e-5) , loss = 'categorical_crossentropy' , metrics = ['acc',f1_m,precision_m, recall_m])\n",
        "  model.fit(X_train, y_train, epochs=700, verbose=False)\n",
        "\n",
        "  print(f'Model evaluation #{s}:')\n",
        "  score = model.evaluate(X_test, y_test)\n",
        "  print('Test Loss:', score[0]) \n",
        "  print('Test Accuracy:', score[1])\n",
        "  print('Test F1:', score[2])\n",
        "  print('Test Precision:', score[3])\n",
        "  print('Test Recall:', score[4])\n",
        "    \n",
        "  s += 1"
      ]
    }
  ],
  "metadata": {
    "accelerator": "GPU",
    "colab": {
      "collapsed_sections": [],
      "name": "Analisis preliminar.ipynb",
      "provenance": []
    },
    "interpreter": {
      "hash": "870f914e5f8ecd15af29ba9205cf761e22b7ed686153aae3fbc7ed38d211ab74"
    },
    "kernelspec": {
      "display_name": "Python 3.10.4 64-bit (windows store)",
      "language": "python",
      "name": "python3"
    },
    "language_info": {
      "codemirror_mode": {
        "name": "ipython",
        "version": 3
      },
      "file_extension": ".py",
      "mimetype": "text/x-python",
      "name": "python",
      "nbconvert_exporter": "python",
      "pygments_lexer": "ipython3",
      "version": "3.10.4"
    }
  },
  "nbformat": 4,
  "nbformat_minor": 0
}
